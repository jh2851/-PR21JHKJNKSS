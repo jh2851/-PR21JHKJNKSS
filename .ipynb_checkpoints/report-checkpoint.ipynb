{
 "cells": [
  {
   "cell_type": "markdown",
   "id": "9618beb2",
   "metadata": {},
   "source": [
    "## Zaključno poročilo\n",
    "---\n",
    "\n",
    "### PREDSTAVITEV MNOŽICE PODATKOV \n",
    "-----\n",
    "Naša množica podatkov, predstavlja zamude potniških vlakov v Sloveniji med Januarjem 2020 in Oktobrom 2021. Množica podatkov vsebuje 19268154 elementov.\n",
    "\n",
    "Za te podatke smo se odločili, saj se nam sami vlaki zdijo zanimivi in nas je tudi zanimalo če so same zamude res tako pogoste kot se nam je zdelo."
   ]
  }
 ],
 "metadata": {
  "kernelspec": {
   "display_name": "Python 3 (ipykernel)",
   "language": "python",
   "name": "python3"
  },
  "language_info": {
   "codemirror_mode": {
    "name": "ipython",
    "version": 3
   },
   "file_extension": ".py",
   "mimetype": "text/x-python",
   "name": "python",
   "nbconvert_exporter": "python",
   "pygments_lexer": "ipython3",
   "version": "3.10.0"
  },
  "latex_envs": {
   "LaTeX_envs_menu_present": true,
   "autoclose": false,
   "autocomplete": true,
   "bibliofile": "biblio.bib",
   "cite_by": "apalike",
   "current_citInitial": 1,
   "eqLabelWithNumbers": true,
   "eqNumInitial": 1,
   "hotkeys": {
    "equation": "Ctrl-E",
    "itemize": "Ctrl-I"
   },
   "labels_anchors": false,
   "latex_user_defs": false,
   "report_style_numbering": false,
   "user_envs_cfg": false
  },
  "nbTranslate": {
   "displayLangs": [
    "*"
   ],
   "hotkey": "alt-t",
   "langInMainMenu": true,
   "sourceLang": "en",
   "targetLang": "fr",
   "useGoogleTranslate": true
  }
 },
 "nbformat": 4,
 "nbformat_minor": 5
}
