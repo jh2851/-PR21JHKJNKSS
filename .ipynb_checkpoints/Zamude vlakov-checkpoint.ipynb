{
 "cells": [
  {
   "cell_type": "code",
   "execution_count": 1,
   "id": "36a0cb1f",
   "metadata": {},
   "outputs": [],
   "source": [
    "import numpy as np\n",
    "np.set_printoptions(suppress=True)\n",
    "import matplotlib.pyplot as plt\n",
    "import matplotlib.lines as mlines\n",
    "from csv import DictReader\n",
    "from datetime import datetime\n",
    "from collections import defaultdict\n",
    "import json\n",
    "import pandas as pd"
   ]
  },
  {
   "cell_type": "code",
   "execution_count": null,
   "id": "16b3638b",
   "metadata": {},
   "outputs": [],
   "source": [
    "delay2 = []\n",
    "\n",
    "reader = DictReader(open('DATA/delays.csv', 'rt', encoding='utf-8'))\n",
    "for row in reader:\n",
    "    timestamp = datetime.fromtimestamp(int(row[\"timestamp\"])).strftime('%Y-%m-%d %H:%M')\n",
    "    train_no = row[\"train_no\"]\n",
    "    train_type = row[\"train_type\"]\n",
    "    station_id = row[\"station_id\"]\n",
    "    delay_type = row[\"delay_type\"]\n",
    "    delay = row[\"delay\"]\n",
    "    delay2.append([timestamp,train_no,train_type,station_id,delay_type,delay])\n",
    "\n",
    "delays = np.asarray(delay2)\n",
    "print(delays)"
   ]
  },
  {
   "cell_type": "code",
   "execution_count": null,
   "id": "c2a1b3ac",
   "metadata": {},
   "outputs": [],
   "source": [
    "slovar = defaultdict(lambda: 0)\n",
    "\n",
    "for ts, tn, tt, si, dt, d in delays:\n",
    "    slovar[tn] += int(d)\n",
    "\n",
    "sort = {k: v for k, v in sorted(slovar.items(), key=lambda y: y[1], reverse=True)[:10]}\n",
    "df = pd.DataFrame(sort.items(), columns =['Train_no', 'delay(min)'])\n",
    "\n",
    "df"
   ]
  },
  {
   "cell_type": "code",
   "execution_count": null,
   "id": "3df475c0",
   "metadata": {},
   "outputs": [],
   "source": [
    "node = []\n",
    "\n",
    "reader = DictReader(open('DATA/rail_nodes.csv', 'rt', encoding='utf-8'))\n",
    "for row in reader:\n",
    "    id = row[\"id\"]\n",
    "    station_name = row[\"station_name\"]\n",
    "    lat = row[\"lat\"]\n",
    "    lng = row[\"lng\"]\n",
    "    \n",
    "    node.append([id,station_name,lat,lng])\n",
    "\n",
    "nodes = np.asarray(node)\n",
    "print(nodes)"
   ]
  },
  {
   "cell_type": "code",
   "execution_count": null,
   "id": "a30dd96a",
   "metadata": {},
   "outputs": [],
   "source": [
    "schedule = json.load(open('DATA/train_schedule.json', encoding=\"utf8\"))\n",
    "\n",
    "for s in scedule:\n",
    "    \n",
    "scheduleDf = pd.DataFrame(schedule[\"2924\"]) \n",
    "\n",
    "scheduleDf "
   ]
  },
  {
   "cell_type": "code",
   "execution_count": null,
   "id": "e76d2aaf",
   "metadata": {},
   "outputs": [],
   "source": [
    "seznam = []\n",
    "with open('DATA/train_schedule.json') as f:\n",
    "    data = json.load(f)\n",
    "    df=pd.DataFrame(data)\n",
    "for x in df:\n",
    "    print(type(df[x]))"
   ]
  },
  {
   "cell_type": "code",
   "execution_count": null,
   "id": "ce2ae16f",
   "metadata": {},
   "outputs": [],
   "source": [
    "with open('DATA/train_schedule.json') as json_file:\n",
    "    data = json.load(json_file)\n",
    "for x in data:\n",
    "    print(x)\n",
    "    print(data[x])\n",
    "#print(data['2924'])\n"
   ]
  },
  {
   "cell_type": "code",
   "execution_count": null,
   "id": "fcd12521",
   "metadata": {},
   "outputs": [],
   "source": [
    "data[\"502\"]"
   ]
  },
  {
   "cell_type": "code",
   "execution_count": null,
   "id": "ca676daa",
   "metadata": {},
   "outputs": [],
   "source": [
    "df"
   ]
  }
 ],
 "metadata": {
  "kernelspec": {
   "display_name": "Python 3 (ipykernel)",
   "language": "python",
   "name": "python3"
  },
  "language_info": {
   "codemirror_mode": {
    "name": "ipython",
    "version": 3
   },
   "file_extension": ".py",
   "mimetype": "text/x-python",
   "name": "python",
   "nbconvert_exporter": "python",
   "pygments_lexer": "ipython3",
   "version": "3.10.0"
  },
  "latex_envs": {
   "LaTeX_envs_menu_present": true,
   "autoclose": false,
   "autocomplete": true,
   "bibliofile": "biblio.bib",
   "cite_by": "apalike",
   "current_citInitial": 1,
   "eqLabelWithNumbers": true,
   "eqNumInitial": 1,
   "hotkeys": {
    "equation": "Ctrl-E",
    "itemize": "Ctrl-I"
   },
   "labels_anchors": false,
   "latex_user_defs": false,
   "report_style_numbering": false,
   "user_envs_cfg": false
  },
  "nbTranslate": {
   "displayLangs": [
    "*"
   ],
   "hotkey": "alt-t",
   "langInMainMenu": true,
   "sourceLang": "en",
   "targetLang": "fr",
   "useGoogleTranslate": true
  }
 },
 "nbformat": 4,
 "nbformat_minor": 5
}
